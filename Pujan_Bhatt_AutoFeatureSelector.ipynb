{
  "cells": [
    {
      "cell_type": "markdown",
      "metadata": {
        "id": "ambeP-YsREgW"
      },
      "source": [
        "# Task 7: AutoFeatureSelector Tool\n",
        "## This task is to test your understanding of various Feature Selection methods outlined in the lecture and the ability to apply this knowledge in a real-world dataset to select best features and also to build an automated feature selection tool as your toolkit\n",
        "\n",
        "### Use your knowledge of different feature selector methods to build an Automatic Feature Selection tool\n",
        "- Pearson Correlation\n",
        "- Chi-Square\n",
        "- RFE\n",
        "- Embedded\n",
        "- Tree (Random Forest)\n",
        "- Tree (Light GBM)"
      ]
    },
    {
      "cell_type": "markdown",
      "metadata": {
        "id": "B6SYDCL1REgZ"
      },
      "source": [
        "### Dataset: FIFA 19 Player Skills\n",
        "#### Attributes: FIFA 2019 players attributes like Age, Nationality, Overall, Potential, Club, Value, Wage, Preferred Foot, International Reputation, Weak Foot, Skill Moves, Work Rate, Position, Jersey Number, Joined, Loaned From, Contract Valid Until, Height, Weight, LS, ST, RS, LW, LF, CF, RF, RW, LAM, CAM, RAM, LM, LCM, CM, RCM, RM, LWB, LDM, CDM, RDM, RWB, LB, LCB, CB, RCB, RB, Crossing, Finishing, Heading, Accuracy, ShortPassing, Volleys, Dribbling, Curve, FKAccuracy, LongPassing, BallControl, Acceleration, SprintSpeed, Agility, Reactions, Balance, ShotPower, Jumping, Stamina, Strength, LongShots, Aggression, Interceptions, Positioning, Vision, Penalties, Composure, Marking, StandingTackle, SlidingTackle, GKDiving, GKHandling, GKKicking, GKPositioning, GKReflexes, and Release Clause."
      ]
    },
    {
      "cell_type": "code",
      "execution_count": 71,
      "metadata": {
        "id": "JGArTyjKREgZ"
      },
      "outputs": [],
      "source": [
        "%matplotlib inline\n",
        "import numpy as np\n",
        "import pandas as pd\n",
        "import seaborn as sns\n",
        "import matplotlib.pyplot as plt\n",
        "import scipy.stats as ss\n",
        "from collections import Counter\n",
        "import math\n",
        "from scipy import stats"
      ]
    },
    {
      "cell_type": "code",
      "execution_count": 72,
      "metadata": {
        "colab": {
          "base_uri": "https://localhost:8080/"
        },
        "id": "jMDdamkcREga",
        "outputId": "122121e8-b34e-4ad2-e443-3b149c86dde8"
      },
      "outputs": [
        {
          "output_type": "stream",
          "name": "stdout",
          "text": [
            "<class 'pandas.core.frame.DataFrame'>\n",
            "RangeIndex: 18207 entries, 0 to 18206\n",
            "Data columns (total 89 columns):\n",
            " #   Column                    Non-Null Count  Dtype  \n",
            "---  ------                    --------------  -----  \n",
            " 0   Unnamed: 0                18207 non-null  int64  \n",
            " 1   ID                        18207 non-null  int64  \n",
            " 2   Name                      18207 non-null  object \n",
            " 3   Age                       18207 non-null  int64  \n",
            " 4   Photo                     18207 non-null  object \n",
            " 5   Nationality               18207 non-null  object \n",
            " 6   Flag                      18207 non-null  object \n",
            " 7   Overall                   18207 non-null  int64  \n",
            " 8   Potential                 18207 non-null  int64  \n",
            " 9   Club                      17966 non-null  object \n",
            " 10  Club Logo                 18207 non-null  object \n",
            " 11  Value                     18207 non-null  object \n",
            " 12  Wage                      18207 non-null  object \n",
            " 13  Special                   18207 non-null  int64  \n",
            " 14  Preferred Foot            18159 non-null  object \n",
            " 15  International Reputation  18159 non-null  float64\n",
            " 16  Weak Foot                 18159 non-null  float64\n",
            " 17  Skill Moves               18159 non-null  float64\n",
            " 18  Work Rate                 18159 non-null  object \n",
            " 19  Body Type                 18159 non-null  object \n",
            " 20  Real Face                 18159 non-null  object \n",
            " 21  Position                  18147 non-null  object \n",
            " 22  Jersey Number             18147 non-null  float64\n",
            " 23  Joined                    16654 non-null  object \n",
            " 24  Loaned From               1264 non-null   object \n",
            " 25  Contract Valid Until      17918 non-null  object \n",
            " 26  Height                    18159 non-null  object \n",
            " 27  Weight                    18159 non-null  object \n",
            " 28  LS                        16122 non-null  object \n",
            " 29  ST                        16122 non-null  object \n",
            " 30  RS                        16122 non-null  object \n",
            " 31  LW                        16122 non-null  object \n",
            " 32  LF                        16122 non-null  object \n",
            " 33  CF                        16122 non-null  object \n",
            " 34  RF                        16122 non-null  object \n",
            " 35  RW                        16122 non-null  object \n",
            " 36  LAM                       16122 non-null  object \n",
            " 37  CAM                       16122 non-null  object \n",
            " 38  RAM                       16122 non-null  object \n",
            " 39  LM                        16122 non-null  object \n",
            " 40  LCM                       16122 non-null  object \n",
            " 41  CM                        16122 non-null  object \n",
            " 42  RCM                       16122 non-null  object \n",
            " 43  RM                        16122 non-null  object \n",
            " 44  LWB                       16122 non-null  object \n",
            " 45  LDM                       16122 non-null  object \n",
            " 46  CDM                       16122 non-null  object \n",
            " 47  RDM                       16122 non-null  object \n",
            " 48  RWB                       16122 non-null  object \n",
            " 49  LB                        16122 non-null  object \n",
            " 50  LCB                       16122 non-null  object \n",
            " 51  CB                        16122 non-null  object \n",
            " 52  RCB                       16122 non-null  object \n",
            " 53  RB                        16122 non-null  object \n",
            " 54  Crossing                  18159 non-null  float64\n",
            " 55  Finishing                 18159 non-null  float64\n",
            " 56  HeadingAccuracy           18159 non-null  float64\n",
            " 57  ShortPassing              18159 non-null  float64\n",
            " 58  Volleys                   18159 non-null  float64\n",
            " 59  Dribbling                 18159 non-null  float64\n",
            " 60  Curve                     18159 non-null  float64\n",
            " 61  FKAccuracy                18159 non-null  float64\n",
            " 62  LongPassing               18159 non-null  float64\n",
            " 63  BallControl               18159 non-null  float64\n",
            " 64  Acceleration              18159 non-null  float64\n",
            " 65  SprintSpeed               18159 non-null  float64\n",
            " 66  Agility                   18159 non-null  float64\n",
            " 67  Reactions                 18159 non-null  float64\n",
            " 68  Balance                   18159 non-null  float64\n",
            " 69  ShotPower                 18159 non-null  float64\n",
            " 70  Jumping                   18159 non-null  float64\n",
            " 71  Stamina                   18159 non-null  float64\n",
            " 72  Strength                  18159 non-null  float64\n",
            " 73  LongShots                 18159 non-null  float64\n",
            " 74  Aggression                18159 non-null  float64\n",
            " 75  Interceptions             18159 non-null  float64\n",
            " 76  Positioning               18159 non-null  float64\n",
            " 77  Vision                    18159 non-null  float64\n",
            " 78  Penalties                 18159 non-null  float64\n",
            " 79  Composure                 18159 non-null  float64\n",
            " 80  Marking                   18159 non-null  float64\n",
            " 81  StandingTackle            18159 non-null  float64\n",
            " 82  SlidingTackle             18159 non-null  float64\n",
            " 83  GKDiving                  18159 non-null  float64\n",
            " 84  GKHandling                18159 non-null  float64\n",
            " 85  GKKicking                 18159 non-null  float64\n",
            " 86  GKPositioning             18159 non-null  float64\n",
            " 87  GKReflexes                18159 non-null  float64\n",
            " 88  Release Clause            16643 non-null  object \n",
            "dtypes: float64(38), int64(6), object(45)\n",
            "memory usage: 12.4+ MB\n",
            "None\n"
          ]
        }
      ],
      "source": [
        "player_df = pd.read_csv(\"https://raw.githubusercontent.com/pujan08/ML_AutoFeatureSelector/main/fifa19.csv\")\n",
        "print(player_df.info())"
      ]
    },
    {
      "cell_type": "code",
      "execution_count": 73,
      "metadata": {
        "id": "OmWSlTWnREga"
      },
      "outputs": [],
      "source": [
        "numcols = ['Overall', 'Crossing','Finishing',  'ShortPassing',  'Dribbling','LongPassing', 'BallControl', 'Acceleration','SprintSpeed', 'Agility',  'Stamina','Volleys','FKAccuracy','Reactions','Balance','ShotPower','Strength','LongShots','Aggression','Interceptions']\n",
        "catcols = ['Preferred Foot','Position','Body Type','Nationality','Weak Foot']"
      ]
    },
    {
      "cell_type": "code",
      "execution_count": 74,
      "metadata": {
        "id": "MaOmzaQdREgb"
      },
      "outputs": [],
      "source": [
        "player_df = player_df[numcols+catcols]"
      ]
    },
    {
      "cell_type": "code",
      "execution_count": 75,
      "metadata": {
        "id": "pDLAYeOIREgb"
      },
      "outputs": [],
      "source": [
        "traindf = pd.concat([player_df[numcols], pd.get_dummies(player_df[catcols])],axis=1)\n",
        "features = traindf.columns\n",
        "\n",
        "traindf = traindf.dropna()"
      ]
    },
    {
      "cell_type": "code",
      "execution_count": 76,
      "metadata": {
        "id": "HXnbIQ5tREgb"
      },
      "outputs": [],
      "source": [
        "traindf = pd.DataFrame(traindf,columns=features)"
      ]
    },
    {
      "cell_type": "code",
      "execution_count": 77,
      "metadata": {
        "id": "OyTXEGyVREgb"
      },
      "outputs": [],
      "source": [
        "y = traindf['Overall']>=87\n",
        "X = traindf.copy()\n",
        "del X['Overall']"
      ]
    },
    {
      "cell_type": "code",
      "execution_count": 78,
      "metadata": {
        "colab": {
          "base_uri": "https://localhost:8080/",
          "height": 273
        },
        "id": "gDVpMIxtREgb",
        "outputId": "53da8329-1f72-453f-b376-23b93850b8c9"
      },
      "outputs": [
        {
          "output_type": "execute_result",
          "data": {
            "text/plain": [
              "   Crossing  Finishing  ShortPassing  Dribbling  LongPassing  BallControl  \\\n",
              "0      84.0       95.0          90.0       97.0         87.0         96.0   \n",
              "1      84.0       94.0          81.0       88.0         77.0         94.0   \n",
              "2      79.0       87.0          84.0       96.0         78.0         95.0   \n",
              "3      17.0       13.0          50.0       18.0         51.0         42.0   \n",
              "4      93.0       82.0          92.0       86.0         91.0         91.0   \n",
              "\n",
              "   Acceleration  SprintSpeed  Agility  Stamina  ...  Nationality_Uganda  \\\n",
              "0          91.0         86.0     91.0     72.0  ...                   0   \n",
              "1          89.0         91.0     87.0     88.0  ...                   0   \n",
              "2          94.0         90.0     96.0     81.0  ...                   0   \n",
              "3          57.0         58.0     60.0     43.0  ...                   0   \n",
              "4          78.0         76.0     79.0     90.0  ...                   0   \n",
              "\n",
              "   Nationality_Ukraine  Nationality_United Arab Emirates  \\\n",
              "0                    0                                 0   \n",
              "1                    0                                 0   \n",
              "2                    0                                 0   \n",
              "3                    0                                 0   \n",
              "4                    0                                 0   \n",
              "\n",
              "   Nationality_United States  Nationality_Uruguay  Nationality_Uzbekistan  \\\n",
              "0                          0                    0                       0   \n",
              "1                          0                    0                       0   \n",
              "2                          0                    0                       0   \n",
              "3                          0                    0                       0   \n",
              "4                          0                    0                       0   \n",
              "\n",
              "   Nationality_Venezuela  Nationality_Wales  Nationality_Zambia  \\\n",
              "0                      0                  0                   0   \n",
              "1                      0                  0                   0   \n",
              "2                      0                  0                   0   \n",
              "3                      0                  0                   0   \n",
              "4                      0                  0                   0   \n",
              "\n",
              "   Nationality_Zimbabwe  \n",
              "0                     0  \n",
              "1                     0  \n",
              "2                     0  \n",
              "3                     0  \n",
              "4                     0  \n",
              "\n",
              "[5 rows x 223 columns]"
            ],
            "text/html": [
              "\n",
              "  <div id=\"df-ef7268f2-8a04-4116-b02f-a7b6e8f44719\" class=\"colab-df-container\">\n",
              "    <div>\n",
              "<style scoped>\n",
              "    .dataframe tbody tr th:only-of-type {\n",
              "        vertical-align: middle;\n",
              "    }\n",
              "\n",
              "    .dataframe tbody tr th {\n",
              "        vertical-align: top;\n",
              "    }\n",
              "\n",
              "    .dataframe thead th {\n",
              "        text-align: right;\n",
              "    }\n",
              "</style>\n",
              "<table border=\"1\" class=\"dataframe\">\n",
              "  <thead>\n",
              "    <tr style=\"text-align: right;\">\n",
              "      <th></th>\n",
              "      <th>Crossing</th>\n",
              "      <th>Finishing</th>\n",
              "      <th>ShortPassing</th>\n",
              "      <th>Dribbling</th>\n",
              "      <th>LongPassing</th>\n",
              "      <th>BallControl</th>\n",
              "      <th>Acceleration</th>\n",
              "      <th>SprintSpeed</th>\n",
              "      <th>Agility</th>\n",
              "      <th>Stamina</th>\n",
              "      <th>...</th>\n",
              "      <th>Nationality_Uganda</th>\n",
              "      <th>Nationality_Ukraine</th>\n",
              "      <th>Nationality_United Arab Emirates</th>\n",
              "      <th>Nationality_United States</th>\n",
              "      <th>Nationality_Uruguay</th>\n",
              "      <th>Nationality_Uzbekistan</th>\n",
              "      <th>Nationality_Venezuela</th>\n",
              "      <th>Nationality_Wales</th>\n",
              "      <th>Nationality_Zambia</th>\n",
              "      <th>Nationality_Zimbabwe</th>\n",
              "    </tr>\n",
              "  </thead>\n",
              "  <tbody>\n",
              "    <tr>\n",
              "      <th>0</th>\n",
              "      <td>84.0</td>\n",
              "      <td>95.0</td>\n",
              "      <td>90.0</td>\n",
              "      <td>97.0</td>\n",
              "      <td>87.0</td>\n",
              "      <td>96.0</td>\n",
              "      <td>91.0</td>\n",
              "      <td>86.0</td>\n",
              "      <td>91.0</td>\n",
              "      <td>72.0</td>\n",
              "      <td>...</td>\n",
              "      <td>0</td>\n",
              "      <td>0</td>\n",
              "      <td>0</td>\n",
              "      <td>0</td>\n",
              "      <td>0</td>\n",
              "      <td>0</td>\n",
              "      <td>0</td>\n",
              "      <td>0</td>\n",
              "      <td>0</td>\n",
              "      <td>0</td>\n",
              "    </tr>\n",
              "    <tr>\n",
              "      <th>1</th>\n",
              "      <td>84.0</td>\n",
              "      <td>94.0</td>\n",
              "      <td>81.0</td>\n",
              "      <td>88.0</td>\n",
              "      <td>77.0</td>\n",
              "      <td>94.0</td>\n",
              "      <td>89.0</td>\n",
              "      <td>91.0</td>\n",
              "      <td>87.0</td>\n",
              "      <td>88.0</td>\n",
              "      <td>...</td>\n",
              "      <td>0</td>\n",
              "      <td>0</td>\n",
              "      <td>0</td>\n",
              "      <td>0</td>\n",
              "      <td>0</td>\n",
              "      <td>0</td>\n",
              "      <td>0</td>\n",
              "      <td>0</td>\n",
              "      <td>0</td>\n",
              "      <td>0</td>\n",
              "    </tr>\n",
              "    <tr>\n",
              "      <th>2</th>\n",
              "      <td>79.0</td>\n",
              "      <td>87.0</td>\n",
              "      <td>84.0</td>\n",
              "      <td>96.0</td>\n",
              "      <td>78.0</td>\n",
              "      <td>95.0</td>\n",
              "      <td>94.0</td>\n",
              "      <td>90.0</td>\n",
              "      <td>96.0</td>\n",
              "      <td>81.0</td>\n",
              "      <td>...</td>\n",
              "      <td>0</td>\n",
              "      <td>0</td>\n",
              "      <td>0</td>\n",
              "      <td>0</td>\n",
              "      <td>0</td>\n",
              "      <td>0</td>\n",
              "      <td>0</td>\n",
              "      <td>0</td>\n",
              "      <td>0</td>\n",
              "      <td>0</td>\n",
              "    </tr>\n",
              "    <tr>\n",
              "      <th>3</th>\n",
              "      <td>17.0</td>\n",
              "      <td>13.0</td>\n",
              "      <td>50.0</td>\n",
              "      <td>18.0</td>\n",
              "      <td>51.0</td>\n",
              "      <td>42.0</td>\n",
              "      <td>57.0</td>\n",
              "      <td>58.0</td>\n",
              "      <td>60.0</td>\n",
              "      <td>43.0</td>\n",
              "      <td>...</td>\n",
              "      <td>0</td>\n",
              "      <td>0</td>\n",
              "      <td>0</td>\n",
              "      <td>0</td>\n",
              "      <td>0</td>\n",
              "      <td>0</td>\n",
              "      <td>0</td>\n",
              "      <td>0</td>\n",
              "      <td>0</td>\n",
              "      <td>0</td>\n",
              "    </tr>\n",
              "    <tr>\n",
              "      <th>4</th>\n",
              "      <td>93.0</td>\n",
              "      <td>82.0</td>\n",
              "      <td>92.0</td>\n",
              "      <td>86.0</td>\n",
              "      <td>91.0</td>\n",
              "      <td>91.0</td>\n",
              "      <td>78.0</td>\n",
              "      <td>76.0</td>\n",
              "      <td>79.0</td>\n",
              "      <td>90.0</td>\n",
              "      <td>...</td>\n",
              "      <td>0</td>\n",
              "      <td>0</td>\n",
              "      <td>0</td>\n",
              "      <td>0</td>\n",
              "      <td>0</td>\n",
              "      <td>0</td>\n",
              "      <td>0</td>\n",
              "      <td>0</td>\n",
              "      <td>0</td>\n",
              "      <td>0</td>\n",
              "    </tr>\n",
              "  </tbody>\n",
              "</table>\n",
              "<p>5 rows × 223 columns</p>\n",
              "</div>\n",
              "    <div class=\"colab-df-buttons\">\n",
              "\n",
              "  <div class=\"colab-df-container\">\n",
              "    <button class=\"colab-df-convert\" onclick=\"convertToInteractive('df-ef7268f2-8a04-4116-b02f-a7b6e8f44719')\"\n",
              "            title=\"Convert this dataframe to an interactive table.\"\n",
              "            style=\"display:none;\">\n",
              "\n",
              "  <svg xmlns=\"http://www.w3.org/2000/svg\" height=\"24px\" viewBox=\"0 -960 960 960\">\n",
              "    <path d=\"M120-120v-720h720v720H120Zm60-500h600v-160H180v160Zm220 220h160v-160H400v160Zm0 220h160v-160H400v160ZM180-400h160v-160H180v160Zm440 0h160v-160H620v160ZM180-180h160v-160H180v160Zm440 0h160v-160H620v160Z\"/>\n",
              "  </svg>\n",
              "    </button>\n",
              "\n",
              "  <style>\n",
              "    .colab-df-container {\n",
              "      display:flex;\n",
              "      gap: 12px;\n",
              "    }\n",
              "\n",
              "    .colab-df-convert {\n",
              "      background-color: #E8F0FE;\n",
              "      border: none;\n",
              "      border-radius: 50%;\n",
              "      cursor: pointer;\n",
              "      display: none;\n",
              "      fill: #1967D2;\n",
              "      height: 32px;\n",
              "      padding: 0 0 0 0;\n",
              "      width: 32px;\n",
              "    }\n",
              "\n",
              "    .colab-df-convert:hover {\n",
              "      background-color: #E2EBFA;\n",
              "      box-shadow: 0px 1px 2px rgba(60, 64, 67, 0.3), 0px 1px 3px 1px rgba(60, 64, 67, 0.15);\n",
              "      fill: #174EA6;\n",
              "    }\n",
              "\n",
              "    .colab-df-buttons div {\n",
              "      margin-bottom: 4px;\n",
              "    }\n",
              "\n",
              "    [theme=dark] .colab-df-convert {\n",
              "      background-color: #3B4455;\n",
              "      fill: #D2E3FC;\n",
              "    }\n",
              "\n",
              "    [theme=dark] .colab-df-convert:hover {\n",
              "      background-color: #434B5C;\n",
              "      box-shadow: 0px 1px 3px 1px rgba(0, 0, 0, 0.15);\n",
              "      filter: drop-shadow(0px 1px 2px rgba(0, 0, 0, 0.3));\n",
              "      fill: #FFFFFF;\n",
              "    }\n",
              "  </style>\n",
              "\n",
              "    <script>\n",
              "      const buttonEl =\n",
              "        document.querySelector('#df-ef7268f2-8a04-4116-b02f-a7b6e8f44719 button.colab-df-convert');\n",
              "      buttonEl.style.display =\n",
              "        google.colab.kernel.accessAllowed ? 'block' : 'none';\n",
              "\n",
              "      async function convertToInteractive(key) {\n",
              "        const element = document.querySelector('#df-ef7268f2-8a04-4116-b02f-a7b6e8f44719');\n",
              "        const dataTable =\n",
              "          await google.colab.kernel.invokeFunction('convertToInteractive',\n",
              "                                                    [key], {});\n",
              "        if (!dataTable) return;\n",
              "\n",
              "        const docLinkHtml = 'Like what you see? Visit the ' +\n",
              "          '<a target=\"_blank\" href=https://colab.research.google.com/notebooks/data_table.ipynb>data table notebook</a>'\n",
              "          + ' to learn more about interactive tables.';\n",
              "        element.innerHTML = '';\n",
              "        dataTable['output_type'] = 'display_data';\n",
              "        await google.colab.output.renderOutput(dataTable, element);\n",
              "        const docLink = document.createElement('div');\n",
              "        docLink.innerHTML = docLinkHtml;\n",
              "        element.appendChild(docLink);\n",
              "      }\n",
              "    </script>\n",
              "  </div>\n",
              "\n",
              "\n",
              "<div id=\"df-857b1275-7851-47e9-88b3-a8d7ba022dbc\">\n",
              "  <button class=\"colab-df-quickchart\" onclick=\"quickchart('df-857b1275-7851-47e9-88b3-a8d7ba022dbc')\"\n",
              "            title=\"Suggest charts\"\n",
              "            style=\"display:none;\">\n",
              "\n",
              "<svg xmlns=\"http://www.w3.org/2000/svg\" height=\"24px\"viewBox=\"0 0 24 24\"\n",
              "     width=\"24px\">\n",
              "    <g>\n",
              "        <path d=\"M19 3H5c-1.1 0-2 .9-2 2v14c0 1.1.9 2 2 2h14c1.1 0 2-.9 2-2V5c0-1.1-.9-2-2-2zM9 17H7v-7h2v7zm4 0h-2V7h2v10zm4 0h-2v-4h2v4z\"/>\n",
              "    </g>\n",
              "</svg>\n",
              "  </button>\n",
              "\n",
              "<style>\n",
              "  .colab-df-quickchart {\n",
              "      --bg-color: #E8F0FE;\n",
              "      --fill-color: #1967D2;\n",
              "      --hover-bg-color: #E2EBFA;\n",
              "      --hover-fill-color: #174EA6;\n",
              "      --disabled-fill-color: #AAA;\n",
              "      --disabled-bg-color: #DDD;\n",
              "  }\n",
              "\n",
              "  [theme=dark] .colab-df-quickchart {\n",
              "      --bg-color: #3B4455;\n",
              "      --fill-color: #D2E3FC;\n",
              "      --hover-bg-color: #434B5C;\n",
              "      --hover-fill-color: #FFFFFF;\n",
              "      --disabled-bg-color: #3B4455;\n",
              "      --disabled-fill-color: #666;\n",
              "  }\n",
              "\n",
              "  .colab-df-quickchart {\n",
              "    background-color: var(--bg-color);\n",
              "    border: none;\n",
              "    border-radius: 50%;\n",
              "    cursor: pointer;\n",
              "    display: none;\n",
              "    fill: var(--fill-color);\n",
              "    height: 32px;\n",
              "    padding: 0;\n",
              "    width: 32px;\n",
              "  }\n",
              "\n",
              "  .colab-df-quickchart:hover {\n",
              "    background-color: var(--hover-bg-color);\n",
              "    box-shadow: 0 1px 2px rgba(60, 64, 67, 0.3), 0 1px 3px 1px rgba(60, 64, 67, 0.15);\n",
              "    fill: var(--button-hover-fill-color);\n",
              "  }\n",
              "\n",
              "  .colab-df-quickchart-complete:disabled,\n",
              "  .colab-df-quickchart-complete:disabled:hover {\n",
              "    background-color: var(--disabled-bg-color);\n",
              "    fill: var(--disabled-fill-color);\n",
              "    box-shadow: none;\n",
              "  }\n",
              "\n",
              "  .colab-df-spinner {\n",
              "    border: 2px solid var(--fill-color);\n",
              "    border-color: transparent;\n",
              "    border-bottom-color: var(--fill-color);\n",
              "    animation:\n",
              "      spin 1s steps(1) infinite;\n",
              "  }\n",
              "\n",
              "  @keyframes spin {\n",
              "    0% {\n",
              "      border-color: transparent;\n",
              "      border-bottom-color: var(--fill-color);\n",
              "      border-left-color: var(--fill-color);\n",
              "    }\n",
              "    20% {\n",
              "      border-color: transparent;\n",
              "      border-left-color: var(--fill-color);\n",
              "      border-top-color: var(--fill-color);\n",
              "    }\n",
              "    30% {\n",
              "      border-color: transparent;\n",
              "      border-left-color: var(--fill-color);\n",
              "      border-top-color: var(--fill-color);\n",
              "      border-right-color: var(--fill-color);\n",
              "    }\n",
              "    40% {\n",
              "      border-color: transparent;\n",
              "      border-right-color: var(--fill-color);\n",
              "      border-top-color: var(--fill-color);\n",
              "    }\n",
              "    60% {\n",
              "      border-color: transparent;\n",
              "      border-right-color: var(--fill-color);\n",
              "    }\n",
              "    80% {\n",
              "      border-color: transparent;\n",
              "      border-right-color: var(--fill-color);\n",
              "      border-bottom-color: var(--fill-color);\n",
              "    }\n",
              "    90% {\n",
              "      border-color: transparent;\n",
              "      border-bottom-color: var(--fill-color);\n",
              "    }\n",
              "  }\n",
              "</style>\n",
              "\n",
              "  <script>\n",
              "    async function quickchart(key) {\n",
              "      const quickchartButtonEl =\n",
              "        document.querySelector('#' + key + ' button');\n",
              "      quickchartButtonEl.disabled = true;  // To prevent multiple clicks.\n",
              "      quickchartButtonEl.classList.add('colab-df-spinner');\n",
              "      try {\n",
              "        const charts = await google.colab.kernel.invokeFunction(\n",
              "            'suggestCharts', [key], {});\n",
              "      } catch (error) {\n",
              "        console.error('Error during call to suggestCharts:', error);\n",
              "      }\n",
              "      quickchartButtonEl.classList.remove('colab-df-spinner');\n",
              "      quickchartButtonEl.classList.add('colab-df-quickchart-complete');\n",
              "    }\n",
              "    (() => {\n",
              "      let quickchartButtonEl =\n",
              "        document.querySelector('#df-857b1275-7851-47e9-88b3-a8d7ba022dbc button');\n",
              "      quickchartButtonEl.style.display =\n",
              "        google.colab.kernel.accessAllowed ? 'block' : 'none';\n",
              "    })();\n",
              "  </script>\n",
              "</div>\n",
              "\n",
              "    </div>\n",
              "  </div>\n"
            ]
          },
          "metadata": {},
          "execution_count": 78
        }
      ],
      "source": [
        "X.head()"
      ]
    },
    {
      "cell_type": "code",
      "execution_count": 79,
      "metadata": {
        "colab": {
          "base_uri": "https://localhost:8080/"
        },
        "id": "HNt0tZy8REgc",
        "outputId": "63f23e14-452b-4752-ee0a-a90581c7e68d"
      },
      "outputs": [
        {
          "output_type": "execute_result",
          "data": {
            "text/plain": [
              "223"
            ]
          },
          "metadata": {},
          "execution_count": 79
        }
      ],
      "source": [
        "len(X.columns)"
      ]
    },
    {
      "cell_type": "markdown",
      "metadata": {
        "id": "CR15dTVAREgd"
      },
      "source": [
        "### Set some fixed set of features"
      ]
    },
    {
      "cell_type": "code",
      "execution_count": 80,
      "metadata": {
        "id": "KeAPLGbcREgd"
      },
      "outputs": [],
      "source": [
        "feature_name = list(X.columns)\n",
        "# no of maximum features we need to select\n",
        "num_feats=30"
      ]
    },
    {
      "cell_type": "markdown",
      "metadata": {
        "id": "cpWlgf7DREgd"
      },
      "source": [
        "## Filter Feature Selection - Pearson Correlation"
      ]
    },
    {
      "cell_type": "markdown",
      "metadata": {
        "id": "Fkzkau67REge"
      },
      "source": [
        "### Pearson Correlation function"
      ]
    },
    {
      "cell_type": "code",
      "execution_count": 81,
      "metadata": {
        "id": "jkdIqZyAREge"
      },
      "outputs": [],
      "source": [
        "def cor_selector(X, y,num_feats):\n",
        "    # Your code goes here (Multiple lines)\n",
        "    cor_list = []\n",
        "    feature_name = X.columns.tolist()\n",
        "\n",
        "    for i in X.columns.tolist():\n",
        "        cor = np.corrcoef(X[i], y)[0, 1]\n",
        "        cor_list.append(cor)\n",
        "\n",
        "    cor_list = [0 if np.isnan(i) else i for i in cor_list]\n",
        "    cor_feature = X.iloc[:, np.argsort(np.abs(cor_list))[-num_feats:]].columns.tolist()\n",
        "    cor_support = [True if i in cor_feature else False for i in feature_name]\n",
        "\n",
        "\n",
        "    # Your code ends here\n",
        "    return cor_support, cor_feature"
      ]
    },
    {
      "cell_type": "code",
      "execution_count": 82,
      "metadata": {
        "colab": {
          "base_uri": "https://localhost:8080/"
        },
        "id": "-prHSPOEREge",
        "outputId": "b0132327-eaf7-4207-e0a9-aa5de1640791"
      },
      "outputs": [
        {
          "output_type": "stream",
          "name": "stdout",
          "text": [
            "30 selected features\n"
          ]
        }
      ],
      "source": [
        "cor_support, cor_feature = cor_selector(X, y, num_feats)\n",
        "print(str(len(cor_feature)), 'selected features')"
      ]
    },
    {
      "cell_type": "markdown",
      "metadata": {
        "id": "UZw-qGqHREge"
      },
      "source": [
        "### List the selected features from Pearson Correlation"
      ]
    },
    {
      "cell_type": "code",
      "execution_count": 83,
      "metadata": {
        "colab": {
          "base_uri": "https://localhost:8080/"
        },
        "id": "WBJK7fHLREge",
        "outputId": "ebb36d5c-e280-4590-bbf5-546837a68bae"
      },
      "outputs": [
        {
          "output_type": "execute_result",
          "data": {
            "text/plain": [
              "['Nationality_Costa Rica',\n",
              " 'Position_LAM',\n",
              " 'Nationality_Uruguay',\n",
              " 'Acceleration',\n",
              " 'SprintSpeed',\n",
              " 'Strength',\n",
              " 'Nationality_Gabon',\n",
              " 'Nationality_Slovenia',\n",
              " 'Stamina',\n",
              " 'Weak Foot',\n",
              " 'Agility',\n",
              " 'Crossing',\n",
              " 'Nationality_Belgium',\n",
              " 'Dribbling',\n",
              " 'ShotPower',\n",
              " 'LongShots',\n",
              " 'Finishing',\n",
              " 'BallControl',\n",
              " 'FKAccuracy',\n",
              " 'LongPassing',\n",
              " 'Volleys',\n",
              " 'ShortPassing',\n",
              " 'Position_RF',\n",
              " 'Position_LF',\n",
              " 'Body Type_PLAYER_BODY_TYPE_25',\n",
              " 'Body Type_Courtois',\n",
              " 'Body Type_Neymar',\n",
              " 'Body Type_Messi',\n",
              " 'Body Type_C. Ronaldo',\n",
              " 'Reactions']"
            ]
          },
          "metadata": {},
          "execution_count": 83
        }
      ],
      "source": [
        "cor_feature"
      ]
    },
    {
      "cell_type": "markdown",
      "metadata": {
        "id": "Smwo65VBREgf"
      },
      "source": [
        "## Filter Feature Selection - Chi-Sqaure"
      ]
    },
    {
      "cell_type": "code",
      "execution_count": 84,
      "metadata": {
        "id": "Kfck5_zhREgf"
      },
      "outputs": [],
      "source": [
        "from sklearn.feature_selection import SelectKBest\n",
        "from sklearn.feature_selection import chi2\n",
        "from sklearn.preprocessing import MinMaxScaler"
      ]
    },
    {
      "cell_type": "markdown",
      "metadata": {
        "id": "-LE76WA4REgf"
      },
      "source": [
        "### Chi-Squared Selector function"
      ]
    },
    {
      "cell_type": "code",
      "execution_count": 85,
      "metadata": {
        "id": "DAX8ZoeRREgf"
      },
      "outputs": [],
      "source": [
        "def chi_squared_selector(X, y, num_feats):\n",
        "    # Your code goes here (Multiple lines)\n",
        "    chi_selector = SelectKBest(chi2, k=num_feats)\n",
        "    chi_selector.fit(X, y)\n",
        "    chi_support = chi_selector.get_support()\n",
        "    chi_feature = X.columns[chi_support]\n",
        "    # Your code ends here\n",
        "    return chi_support, chi_feature"
      ]
    },
    {
      "cell_type": "code",
      "execution_count": 86,
      "metadata": {
        "colab": {
          "base_uri": "https://localhost:8080/"
        },
        "id": "7qggfKDDREgf",
        "outputId": "d3a20814-48c3-4ab2-b628-0bb443da155f"
      },
      "outputs": [
        {
          "output_type": "stream",
          "name": "stdout",
          "text": [
            "30 selected features\n"
          ]
        }
      ],
      "source": [
        "chi_support, chi_feature = chi_squared_selector(X, y,num_feats)\n",
        "print(str(len(chi_feature)), 'selected features')"
      ]
    },
    {
      "cell_type": "markdown",
      "metadata": {
        "id": "1wcVdTkyREgg"
      },
      "source": [
        "### List the selected features from Chi-Square"
      ]
    },
    {
      "cell_type": "code",
      "execution_count": 87,
      "metadata": {
        "colab": {
          "base_uri": "https://localhost:8080/"
        },
        "id": "b4_dbiKdREgg",
        "outputId": "77fbc997-f25d-44d8-b74c-3f3375c85295"
      },
      "outputs": [
        {
          "output_type": "execute_result",
          "data": {
            "text/plain": [
              "Index(['Crossing', 'Finishing', 'ShortPassing', 'Dribbling', 'LongPassing',\n",
              "       'BallControl', 'Acceleration', 'SprintSpeed', 'Agility', 'Stamina',\n",
              "       'Volleys', 'FKAccuracy', 'Reactions', 'Balance', 'ShotPower',\n",
              "       'Strength', 'LongShots', 'Aggression', 'Interceptions', 'Position_LF',\n",
              "       'Position_RF', 'Body Type_C. Ronaldo', 'Body Type_Courtois',\n",
              "       'Body Type_Messi', 'Body Type_Neymar', 'Body Type_PLAYER_BODY_TYPE_25',\n",
              "       'Nationality_Belgium', 'Nationality_Gabon', 'Nationality_Slovenia',\n",
              "       'Nationality_Uruguay'],\n",
              "      dtype='object')"
            ]
          },
          "metadata": {},
          "execution_count": 87
        }
      ],
      "source": [
        "chi_feature"
      ]
    },
    {
      "cell_type": "markdown",
      "metadata": {
        "id": "iA3pHjtvREgg"
      },
      "source": [
        "## Wrapper Feature Selection - Recursive Feature Elimination"
      ]
    },
    {
      "cell_type": "code",
      "execution_count": 88,
      "metadata": {
        "id": "PhNBExE7REgg"
      },
      "outputs": [],
      "source": [
        "from sklearn.feature_selection import RFE\n",
        "from sklearn.linear_model import LogisticRegression\n",
        "from sklearn.preprocessing import MinMaxScaler"
      ]
    },
    {
      "cell_type": "markdown",
      "metadata": {
        "id": "0VIxi6cBREgg"
      },
      "source": [
        "### RFE Selector function"
      ]
    },
    {
      "cell_type": "code",
      "execution_count": 89,
      "metadata": {
        "id": "k3jNc22UREgg"
      },
      "outputs": [],
      "source": [
        "def rfe_selector(X, y, num_feats):\n",
        "    # Your code goes here (Multiple lines)\n",
        "    scaler = MinMaxScaler()\n",
        "    X_scaled = scaler.fit_transform(X)\n",
        "    estimator = LogisticRegression()\n",
        "    rfe_selector = RFE(estimator, n_features_to_select=num_feats, step=1)\n",
        "    rfe_selector = rfe_selector.fit(X_scaled, y)\n",
        "    rfe_support = rfe_selector.support_\n",
        "    rfe_feature = X.columns[rfe_support]\n",
        "    # Your code ends here\n",
        "    return rfe_support, rfe_feature"
      ]
    },
    {
      "cell_type": "code",
      "execution_count": 90,
      "metadata": {
        "colab": {
          "base_uri": "https://localhost:8080/"
        },
        "id": "vaEDWejnREgg",
        "outputId": "1653a96b-5382-4a85-c49b-acc90dec5680"
      },
      "outputs": [
        {
          "output_type": "stream",
          "name": "stdout",
          "text": [
            "30 selected features\n"
          ]
        }
      ],
      "source": [
        "rfe_support, rfe_feature = rfe_selector(X, y,num_feats)\n",
        "print(str(len(rfe_feature)), 'selected features')"
      ]
    },
    {
      "cell_type": "markdown",
      "metadata": {
        "id": "LwVLvGXJREgh"
      },
      "source": [
        "### List the selected features from RFE"
      ]
    },
    {
      "cell_type": "code",
      "execution_count": 91,
      "metadata": {
        "colab": {
          "base_uri": "https://localhost:8080/"
        },
        "id": "Z5q5srqsREgh",
        "outputId": "46c0f2c9-73eb-4115-dd48-67736be3809d"
      },
      "outputs": [
        {
          "output_type": "execute_result",
          "data": {
            "text/plain": [
              "Index(['Finishing', 'ShortPassing', 'LongPassing', 'BallControl',\n",
              "       'Acceleration', 'SprintSpeed', 'Agility', 'Volleys', 'FKAccuracy',\n",
              "       'Reactions', 'Strength', 'Weak Foot', 'Position_CAM', 'Position_CM',\n",
              "       'Position_GK', 'Position_LCB', 'Position_LM', 'Position_RB',\n",
              "       'Position_RCB', 'Position_RF', 'Position_RM', 'Position_RW',\n",
              "       'Body Type_Courtois', 'Body Type_PLAYER_BODY_TYPE_25',\n",
              "       'Nationality_Belgium', 'Nationality_Costa Rica', 'Nationality_Gabon',\n",
              "       'Nationality_Netherlands', 'Nationality_Slovenia',\n",
              "       'Nationality_Uruguay'],\n",
              "      dtype='object')"
            ]
          },
          "metadata": {},
          "execution_count": 91
        }
      ],
      "source": [
        "rfe_feature"
      ]
    },
    {
      "cell_type": "markdown",
      "metadata": {
        "id": "Mov4N7CtREgh"
      },
      "source": [
        "## Embedded Selection - Lasso: SelectFromModel"
      ]
    },
    {
      "cell_type": "code",
      "execution_count": 92,
      "metadata": {
        "id": "vd28eigxREgh"
      },
      "outputs": [],
      "source": [
        "from sklearn.feature_selection import SelectFromModel\n",
        "from sklearn.linear_model import LogisticRegression\n",
        "from sklearn.preprocessing import MinMaxScaler"
      ]
    },
    {
      "cell_type": "code",
      "execution_count": 93,
      "metadata": {
        "id": "JUTo77k0REgi"
      },
      "outputs": [],
      "source": [
        "def embedded_log_reg_selector(X, y, num_feats):\n",
        "    # Your code goes here (Multiple lines)\n",
        "    scaler = MinMaxScaler()\n",
        "    X_scaled = scaler.fit_transform(X)\n",
        "    estimator = LogisticRegression()\n",
        "    embedded_lr_selector = SelectFromModel(estimator, max_features=num_feats)\n",
        "    embedded_lr_selector.fit(X_scaled, y)\n",
        "    embedded_lr_support = embedded_lr_selector.get_support()\n",
        "    embedded_lr_feature = X.columns[embedded_lr_support]\n",
        "    # Your code ends here\n",
        "    return embedded_lr_support, embedded_lr_feature"
      ]
    },
    {
      "cell_type": "code",
      "execution_count": 94,
      "metadata": {
        "colab": {
          "base_uri": "https://localhost:8080/"
        },
        "id": "QJwvbHcsREgi",
        "outputId": "6739f712-0f9d-43c9-a0e5-0d61d1207918"
      },
      "outputs": [
        {
          "output_type": "stream",
          "name": "stdout",
          "text": [
            "30 selected features\n"
          ]
        }
      ],
      "source": [
        "embedded_lr_support, embedded_lr_feature = embedded_log_reg_selector(X, y, num_feats)\n",
        "print(str(len(embedded_lr_feature)), 'selected features')"
      ]
    },
    {
      "cell_type": "code",
      "execution_count": 95,
      "metadata": {
        "colab": {
          "base_uri": "https://localhost:8080/"
        },
        "id": "JB192CsCREgi",
        "outputId": "36a45d42-1a37-4516-e548-54c33edf529a"
      },
      "outputs": [
        {
          "output_type": "execute_result",
          "data": {
            "text/plain": [
              "Index(['Finishing', 'ShortPassing', 'LongPassing', 'BallControl',\n",
              "       'SprintSpeed', 'Agility', 'Volleys', 'Reactions', 'Strength',\n",
              "       'Weak Foot', 'Position_CAM', 'Position_CM', 'Position_GK',\n",
              "       'Position_LCB', 'Position_LM', 'Position_RB', 'Position_RCB',\n",
              "       'Position_RM', 'Position_RW', 'Body Type_Courtois', 'Body Type_Lean',\n",
              "       'Body Type_Stocky', 'Nationality_Belgium', 'Nationality_Costa Rica',\n",
              "       'Nationality_Croatia', 'Nationality_France', 'Nationality_Gabon',\n",
              "       'Nationality_Netherlands', 'Nationality_Slovenia',\n",
              "       'Nationality_Uruguay'],\n",
              "      dtype='object')"
            ]
          },
          "metadata": {},
          "execution_count": 95
        }
      ],
      "source": [
        "embedded_lr_feature"
      ]
    },
    {
      "cell_type": "markdown",
      "metadata": {
        "id": "CfIRTYwEREgi"
      },
      "source": [
        "## Tree based(Random Forest): SelectFromModel"
      ]
    },
    {
      "cell_type": "code",
      "execution_count": 96,
      "metadata": {
        "id": "SH6ktCITREgu"
      },
      "outputs": [],
      "source": [
        "from sklearn.feature_selection import SelectFromModel\n",
        "from sklearn.ensemble import RandomForestClassifier\n",
        "from sklearn.preprocessing import MinMaxScaler"
      ]
    },
    {
      "cell_type": "code",
      "execution_count": 97,
      "metadata": {
        "id": "O6qJAeBfREgv"
      },
      "outputs": [],
      "source": [
        "def embedded_rf_selector(X, y, num_feats):\n",
        "    # Your code goes here (Multiple lines)\n",
        "    scaler = MinMaxScaler()\n",
        "    X_scaled = scaler.fit_transform(X)\n",
        "    estimator = RandomForestClassifier(n_estimators=100, random_state=42)  # Adjust parameters as needed\n",
        "    embedded_rf_selector = SelectFromModel(estimator, max_features=num_feats)\n",
        "    embedded_rf_selector.fit(X_scaled, y)\n",
        "    embedded_rf_support = embedded_rf_selector.get_support()\n",
        "    embedded_rf_feature = X.columns[embedded_rf_support]\n",
        "    # Your code ends here\n",
        "    return embedded_rf_support, embedded_rf_feature"
      ]
    },
    {
      "cell_type": "code",
      "execution_count": 98,
      "metadata": {
        "colab": {
          "base_uri": "https://localhost:8080/"
        },
        "id": "gRJXyyoOREgv",
        "outputId": "4d0f7fbe-518c-4bfd-aae0-01942205b850"
      },
      "outputs": [
        {
          "output_type": "stream",
          "name": "stdout",
          "text": [
            "24 selected features\n"
          ]
        }
      ],
      "source": [
        "embedded_rf_support, embedded_rf_feature = embedded_rf_selector(X, y, num_feats)\n",
        "print(str(len(embedded_rf_feature)), 'selected features')"
      ]
    },
    {
      "cell_type": "code",
      "execution_count": 99,
      "metadata": {
        "colab": {
          "base_uri": "https://localhost:8080/"
        },
        "id": "cEXrano1REgv",
        "outputId": "2bf60f94-aa4d-4888-d541-9e2720e351c0"
      },
      "outputs": [
        {
          "output_type": "execute_result",
          "data": {
            "text/plain": [
              "Index(['Crossing', 'Finishing', 'ShortPassing', 'Dribbling', 'LongPassing',\n",
              "       'BallControl', 'Acceleration', 'SprintSpeed', 'Agility', 'Stamina',\n",
              "       'Volleys', 'FKAccuracy', 'Reactions', 'Balance', 'ShotPower',\n",
              "       'Strength', 'LongShots', 'Aggression', 'Interceptions', 'Weak Foot',\n",
              "       'Preferred Foot_Right', 'Body Type_Courtois', 'Body Type_Normal',\n",
              "       'Nationality_Slovenia'],\n",
              "      dtype='object')"
            ]
          },
          "metadata": {},
          "execution_count": 99
        }
      ],
      "source": [
        "embedded_rf_feature"
      ]
    },
    {
      "cell_type": "markdown",
      "metadata": {
        "id": "Qzp8ksb6REgv"
      },
      "source": [
        "## Tree based(Light GBM): SelectFromModel"
      ]
    },
    {
      "cell_type": "code",
      "execution_count": 100,
      "metadata": {
        "id": "bCf0Z1dUREgv"
      },
      "outputs": [],
      "source": [
        "from sklearn.feature_selection import SelectFromModel\n",
        "from lightgbm import LGBMClassifier"
      ]
    },
    {
      "cell_type": "code",
      "execution_count": 101,
      "metadata": {
        "id": "vI8MKUvEREgw"
      },
      "outputs": [],
      "source": [
        "def embedded_lgbm_selector(X, y, num_feats):\n",
        "    # Your code goes here (Multiple lines)\n",
        "    estimator = LGBMClassifier()\n",
        "    estimator.fit(X, y)\n",
        "    embedded_lgbm_selector = SelectFromModel(estimator, max_features=num_feats)\n",
        "    embedded_lgbm_selector.fit(X, y)\n",
        "    embedded_lgbm_support = embedded_lgbm_selector.get_support()\n",
        "    embedded_lgbm_feature = X.columns[embedded_lgbm_support]\n",
        "    # Your code ends here\n",
        "    return embedded_lgbm_support, embedded_lgbm_feature"
      ]
    },
    {
      "cell_type": "code",
      "execution_count": 102,
      "metadata": {
        "colab": {
          "base_uri": "https://localhost:8080/"
        },
        "id": "j2fqtJ5XREgw",
        "outputId": "426dde6d-b6f0-4630-e8dc-660842d3feaf"
      },
      "outputs": [
        {
          "output_type": "stream",
          "name": "stdout",
          "text": [
            "[LightGBM] [Warning] Found whitespace in feature_names, replace with underlines\n",
            "[LightGBM] [Info] Number of positive: 55, number of negative: 18104\n",
            "[LightGBM] [Info] Auto-choosing row-wise multi-threading, the overhead of testing was 0.002046 seconds.\n",
            "You can set `force_row_wise=true` to remove the overhead.\n",
            "And if memory is not enough, you can set `force_col_wise=true`.\n",
            "[LightGBM] [Info] Total Bins 1812\n",
            "[LightGBM] [Info] Number of data points in the train set: 18159, number of used features: 124\n",
            "[LightGBM] [Info] [binary:BoostFromScore]: pavg=0.003029 -> initscore=-5.796555\n",
            "[LightGBM] [Info] Start training from score -5.796555\n",
            "[LightGBM] [Warning] No further splits with positive gain, best gain: -inf\n",
            "[LightGBM] [Warning] No further splits with positive gain, best gain: -inf\n",
            "[LightGBM] [Warning] No further splits with positive gain, best gain: -inf\n",
            "[LightGBM] [Warning] No further splits with positive gain, best gain: -inf\n",
            "[LightGBM] [Warning] No further splits with positive gain, best gain: -inf\n",
            "[LightGBM] [Warning] No further splits with positive gain, best gain: -inf\n",
            "[LightGBM] [Warning] No further splits with positive gain, best gain: -inf\n",
            "[LightGBM] [Warning] No further splits with positive gain, best gain: -inf\n",
            "[LightGBM] [Warning] No further splits with positive gain, best gain: -inf\n",
            "[LightGBM] [Warning] Found whitespace in feature_names, replace with underlines\n",
            "[LightGBM] [Info] Number of positive: 55, number of negative: 18104\n",
            "[LightGBM] [Info] Auto-choosing row-wise multi-threading, the overhead of testing was 0.001988 seconds.\n",
            "You can set `force_row_wise=true` to remove the overhead.\n",
            "And if memory is not enough, you can set `force_col_wise=true`.\n",
            "[LightGBM] [Info] Total Bins 1812\n",
            "[LightGBM] [Info] Number of data points in the train set: 18159, number of used features: 124\n",
            "[LightGBM] [Info] [binary:BoostFromScore]: pavg=0.003029 -> initscore=-5.796555\n",
            "[LightGBM] [Info] Start training from score -5.796555\n",
            "[LightGBM] [Warning] No further splits with positive gain, best gain: -inf\n",
            "[LightGBM] [Warning] No further splits with positive gain, best gain: -inf\n",
            "[LightGBM] [Warning] No further splits with positive gain, best gain: -inf\n",
            "[LightGBM] [Warning] No further splits with positive gain, best gain: -inf\n",
            "[LightGBM] [Warning] No further splits with positive gain, best gain: -inf\n",
            "[LightGBM] [Warning] No further splits with positive gain, best gain: -inf\n",
            "[LightGBM] [Warning] No further splits with positive gain, best gain: -inf\n",
            "[LightGBM] [Warning] No further splits with positive gain, best gain: -inf\n",
            "[LightGBM] [Warning] No further splits with positive gain, best gain: -inf\n",
            "22 selected features\n"
          ]
        }
      ],
      "source": [
        "embedded_lgbm_support, embedded_lgbm_feature = embedded_lgbm_selector(X, y, num_feats)\n",
        "print(str(len(embedded_lgbm_feature)), 'selected features')"
      ]
    },
    {
      "cell_type": "code",
      "execution_count": 103,
      "metadata": {
        "colab": {
          "base_uri": "https://localhost:8080/"
        },
        "id": "YlkWgZfOREgw",
        "outputId": "e2d23930-eef4-4fe2-bd5a-ad5f90112428"
      },
      "outputs": [
        {
          "output_type": "execute_result",
          "data": {
            "text/plain": [
              "Index(['Crossing', 'Finishing', 'ShortPassing', 'Dribbling', 'LongPassing',\n",
              "       'BallControl', 'Acceleration', 'SprintSpeed', 'Agility', 'Stamina',\n",
              "       'Volleys', 'FKAccuracy', 'Reactions', 'Balance', 'ShotPower',\n",
              "       'Strength', 'LongShots', 'Aggression', 'Interceptions', 'Position_LCB',\n",
              "       'Body Type_Lean', 'Nationality_Italy'],\n",
              "      dtype='object')"
            ]
          },
          "metadata": {},
          "execution_count": 103
        }
      ],
      "source": [
        "embedded_lgbm_feature"
      ]
    },
    {
      "cell_type": "markdown",
      "metadata": {
        "id": "no5N1gqXREgw"
      },
      "source": [
        "## Putting all of it together: AutoFeatureSelector Tool"
      ]
    },
    {
      "cell_type": "code",
      "execution_count": 104,
      "metadata": {
        "id": "YgULQvLoREgw"
      },
      "outputs": [],
      "source": [
        "pd.set_option('display.max_rows', None)\n",
        "# put all selection together\n",
        "if len(set(lengths)) == 1:\n",
        "  feature_selection_df = pd.DataFrame({'Feature':feature_name, 'Pearson':cor_support, 'Chi-2':chi_support, 'RFE':rfe_support, 'Logistics':embedded_lgbm_feature,\n",
        "                                    'Random Forest':embedded_rf_support, 'LightGBM':embedded_lgbm_support})\n",
        "# count the selected times for each feature\n",
        "  feature_selection_df['Total'] = np.sum(feature_selection_df, axis=1)\n",
        "# display the top 100\n",
        "  feature_selection_df = feature_selection_df.sort_values(['Total','Feature'] , ascending=False)\n",
        "  feature_selection_df.index = range(1, len(feature_selection_df)+1)\n",
        "  feature_selection_df.head(num_feats)"
      ]
    },
    {
      "cell_type": "markdown",
      "metadata": {
        "id": "RBhOaDqyREgx"
      },
      "source": [
        "## Can you build a Python script that takes dataset and a list of different feature selection methods that you want to try and output the best (maximum votes) features from all methods?"
      ]
    },
    {
      "cell_type": "code",
      "execution_count": 105,
      "metadata": {
        "id": "SzSxQSFcREgx"
      },
      "outputs": [],
      "source": [
        "from sklearn.model_selection import train_test_split\n",
        "def preprocess_dataset(dataset_path):\n",
        "    # Your code starts here (Multiple lines)\n",
        "    dataset = pd.read_csv(dataset_path)\n",
        "    y = traindf['Overall']>=87\n",
        "    X = traindf.copy()\n",
        "    del X['Overall']\n",
        "    X_train, X_test, y_train, y_test = train_test_split(X, y,test_size=0.2, random_state=42)\n",
        "\n",
        "    # Choose the number of features you want to select (you can adjust this)\n",
        "    num_feats = len(X.columns)\n",
        "\n",
        "\n",
        "    # Your code ends here\n",
        "    return X, y, num_feats"
      ]
    },
    {
      "cell_type": "code",
      "execution_count": 106,
      "metadata": {
        "id": "8070B-yGREgx"
      },
      "outputs": [],
      "source": [
        "def autoFeatureSelector(dataset_path, methods=[]):\n",
        "    # Parameters\n",
        "    # data - dataset to be analyzed (csv file)\n",
        "    # methods - various feature selection methods we outlined before, use them all here (list)\n",
        "\n",
        "    # preprocessing\n",
        "    X, y, num_feats = preprocess_dataset(dataset_path)\n",
        "\n",
        "    # Run every method we outlined above from the methods list and collect returned best features from every method\n",
        "    if 'pearson' in methods:\n",
        "        cor_support, cor_feature = cor_selector(X, y,num_feats)\n",
        "    if 'chi-square' in methods:\n",
        "        chi_support, chi_feature = chi_squared_selector(X, y,num_feats)\n",
        "    if 'rfe' in methods:\n",
        "        rfe_support, rfe_feature = rfe_selector(X, y,num_feats)\n",
        "    if 'log-reg' in methods:\n",
        "        embedded_lr_support, embedded_lr_feature = embedded_log_reg_selector(X, y, num_feats)\n",
        "    if 'rf' in methods:\n",
        "        embedded_rf_support, embedded_rf_feature = embedded_rf_selector(X, y, num_feats)\n",
        "    if 'lgbm' in methods:\n",
        "        embedded_lgbm_support, embedded_lgbm_feature = embedded_lgbm_selector(X, y, num_feats)\n",
        "\n",
        "\n",
        "    # Combine all the above feature list and count the maximum set of features that got selected by all methods\n",
        "    #### Your Code starts here (Multiple lines)\n",
        "    all_features = {\n",
        "        'pearson': cor_feature if 'pearson' in methods else [],\n",
        "        'chi-square': chi_feature if 'chi-square' in methods else [],\n",
        "        'rfe': rfe_feature if 'rfe' in methods else [],\n",
        "        'log-reg': embedded_lr_feature if 'log-reg' in methods else [],\n",
        "        'rf': embedded_rf_feature if 'rf' in methods else [],\n",
        "        'lgbm': embedded_lgbm_feature if 'lgbm' in methods else [],\n",
        "    }\n",
        "    common_features = set(all_features['pearson'])\n",
        "    for method, features in all_features.items():\n",
        "        common_features = common_features.intersection(features)\n",
        "\n",
        "    best_features = list(common_features)\n",
        "    #### Your Code ends here\n",
        "    return best_features"
      ]
    },
    {
      "cell_type": "code",
      "execution_count": 107,
      "metadata": {
        "id": "fHtFLx9mREgx",
        "outputId": "ad20134c-9240-4adf-81ab-20b08b9f1d51",
        "colab": {
          "base_uri": "https://localhost:8080/"
        }
      },
      "outputs": [
        {
          "output_type": "stream",
          "name": "stdout",
          "text": [
            "[LightGBM] [Warning] Found whitespace in feature_names, replace with underlines\n",
            "[LightGBM] [Info] Number of positive: 55, number of negative: 18104\n",
            "[LightGBM] [Info] Auto-choosing row-wise multi-threading, the overhead of testing was 0.001892 seconds.\n",
            "You can set `force_row_wise=true` to remove the overhead.\n",
            "And if memory is not enough, you can set `force_col_wise=true`.\n",
            "[LightGBM] [Info] Total Bins 1812\n",
            "[LightGBM] [Info] Number of data points in the train set: 18159, number of used features: 124\n",
            "[LightGBM] [Info] [binary:BoostFromScore]: pavg=0.003029 -> initscore=-5.796555\n",
            "[LightGBM] [Info] Start training from score -5.796555\n",
            "[LightGBM] [Warning] No further splits with positive gain, best gain: -inf\n",
            "[LightGBM] [Warning] No further splits with positive gain, best gain: -inf\n",
            "[LightGBM] [Warning] No further splits with positive gain, best gain: -inf\n",
            "[LightGBM] [Warning] No further splits with positive gain, best gain: -inf\n",
            "[LightGBM] [Warning] No further splits with positive gain, best gain: -inf\n",
            "[LightGBM] [Warning] No further splits with positive gain, best gain: -inf\n",
            "[LightGBM] [Warning] No further splits with positive gain, best gain: -inf\n",
            "[LightGBM] [Warning] No further splits with positive gain, best gain: -inf\n",
            "[LightGBM] [Warning] No further splits with positive gain, best gain: -inf\n",
            "[LightGBM] [Warning] Found whitespace in feature_names, replace with underlines\n",
            "[LightGBM] [Info] Number of positive: 55, number of negative: 18104\n",
            "[LightGBM] [Info] Auto-choosing row-wise multi-threading, the overhead of testing was 0.001825 seconds.\n",
            "You can set `force_row_wise=true` to remove the overhead.\n",
            "And if memory is not enough, you can set `force_col_wise=true`.\n",
            "[LightGBM] [Info] Total Bins 1812\n",
            "[LightGBM] [Info] Number of data points in the train set: 18159, number of used features: 124\n",
            "[LightGBM] [Info] [binary:BoostFromScore]: pavg=0.003029 -> initscore=-5.796555\n",
            "[LightGBM] [Info] Start training from score -5.796555\n",
            "[LightGBM] [Warning] No further splits with positive gain, best gain: -inf\n",
            "[LightGBM] [Warning] No further splits with positive gain, best gain: -inf\n",
            "[LightGBM] [Warning] No further splits with positive gain, best gain: -inf\n",
            "[LightGBM] [Warning] No further splits with positive gain, best gain: -inf\n",
            "[LightGBM] [Warning] No further splits with positive gain, best gain: -inf\n",
            "[LightGBM] [Warning] No further splits with positive gain, best gain: -inf\n",
            "[LightGBM] [Warning] No further splits with positive gain, best gain: -inf\n",
            "[LightGBM] [Warning] No further splits with positive gain, best gain: -inf\n",
            "[LightGBM] [Warning] No further splits with positive gain, best gain: -inf\n"
          ]
        },
        {
          "output_type": "execute_result",
          "data": {
            "text/plain": [
              "['Strength',\n",
              " 'LongPassing',\n",
              " 'ShortPassing',\n",
              " 'Acceleration',\n",
              " 'Aggression',\n",
              " 'BallControl',\n",
              " 'SprintSpeed',\n",
              " 'Agility',\n",
              " 'Crossing',\n",
              " 'Stamina',\n",
              " 'Volleys',\n",
              " 'Reactions',\n",
              " 'FKAccuracy',\n",
              " 'Interceptions',\n",
              " 'Finishing']"
            ]
          },
          "metadata": {},
          "execution_count": 107
        }
      ],
      "source": [
        "best_features = autoFeatureSelector(dataset_path=\"https://raw.githubusercontent.com/pujan08/ML_AutoFeatureSelector/main/fifa19.csv\", methods=['pearson', 'chi-square', 'rfe', 'log-reg', 'rf', 'lgbm'])\n",
        "best_features"
      ]
    },
    {
      "cell_type": "markdown",
      "metadata": {
        "id": "hjCxiPVCREgx"
      },
      "source": [
        "### Last, Can you turn this notebook into a python script, run it and submit the python (.py) file that takes dataset and list of methods as inputs and outputs the best features"
      ]
    },
    {
      "cell_type": "code",
      "execution_count": 107,
      "metadata": {
        "id": "uF8ZbEhKREgy"
      },
      "outputs": [],
      "source": []
    }
  ],
  "metadata": {
    "kernelspec": {
      "display_name": "testing",
      "language": "python",
      "name": "testing"
    },
    "language_info": {
      "codemirror_mode": {
        "name": "ipython",
        "version": 3
      },
      "file_extension": ".py",
      "mimetype": "text/x-python",
      "name": "python",
      "nbconvert_exporter": "python",
      "pygments_lexer": "ipython3",
      "version": "3.8.5"
    },
    "colab": {
      "provenance": []
    }
  },
  "nbformat": 4,
  "nbformat_minor": 0
}